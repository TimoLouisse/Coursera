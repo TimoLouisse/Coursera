{
 "cells": [
  {
   "cell_type": "markdown",
   "id": "1265f06e-26fc-40d8-94cc-3ebe4db8c7e8",
   "metadata": {},
   "source": [
    "# Data Science Tools and Ecosystem"
   ]
  },
  {
   "cell_type": "markdown",
   "id": "bb344850-3a26-4028-b70d-e53a9e6e7c35",
   "metadata": {},
   "source": [
    "In this notebook, Data Science Tools and Ecosystem are summarized."
   ]
  },
  {
   "cell_type": "markdown",
   "id": "06f309c0-3461-4f0f-b960-1f82beda8111",
   "metadata": {},
   "source": [
    "**Objectives:**\n",
    "\n",
    "- List popular languages that Data Scientists use\n",
    "- List commonly used libraries used by Data Scientists\n",
    "- List commonly used development environment open source tools used by Data Scientists"
   ]
  },
  {
   "cell_type": "markdown",
   "id": "7500594e-0dc3-490a-bc56-98dbb22d5b4e",
   "metadata": {},
   "source": [
    "Some of the popular languages that Data Scientists use are:\n",
    "\n",
    "1. Python\n",
    "2. R\n",
    "3. SQL"
   ]
  },
  {
   "cell_type": "markdown",
   "id": "a04cf88d-ffd1-4f37-815c-a380f768987e",
   "metadata": {},
   "source": [
    "Some of the commonly used libraries used by Data Scientists include:\n",
    "\n",
    "1. ggplot\n",
    "2. pandas\n",
    "3. NumPy\n",
    "4. matplotlib"
   ]
  },
  {
   "cell_type": "markdown",
   "id": "ee171fdc-58e5-44dd-b7b9-6ff85f640e0a",
   "metadata": {},
   "source": [
    "| Data Science Tools |\n",
    "|---|\n",
    "| Rstudio |\n",
    "| Apache Spark |\n",
    "| Jupyter |"
   ]
  },
  {
   "cell_type": "code",
   "execution_count": 3,
   "id": "fa12bcc8-5742-49e3-aacb-77bbf3be4988",
   "metadata": {},
   "outputs": [
    {
     "data": {
      "text/plain": [
       "17"
      ]
     },
     "execution_count": 3,
     "metadata": {},
     "output_type": "execute_result"
    }
   ],
   "source": [
    "#This a simple arithmetic expression to mutiply then add integers\n",
    "(3*4)+5"
   ]
  },
  {
   "cell_type": "code",
   "execution_count": 10,
   "id": "6ad651be-2b5f-4a20-a741-15faab15bcb3",
   "metadata": {},
   "outputs": [
    {
     "name": "stdout",
     "output_type": "stream",
     "text": [
      "200 minutes is equal to 3.3333333333333335 minutes, or 3 hours and 20 minutes.\n"
     ]
    }
   ],
   "source": [
    "#This will convert 200 minutes to hours by dividing by 60\n",
    "minutes_total = 200\n",
    "minutes = minutes_total /60\n",
    "minutes_left = minutes_total%60\n",
    "hours_in_total = minutes_total//60\n",
    "print(str(minutes_total) + \" minutes is equal to \" + str(minutes) + \" minutes, or \" + str(hours_in_total) + \" hours and \" + str(minutes_left) + \" minutes.\")\n"
   ]
  },
  {
   "cell_type": "markdown",
   "id": "aa6607fb-6794-4ba8-bb52-fab8a36fc1bb",
   "metadata": {},
   "source": [
    "## Author\n",
    "Timo Louisse"
   ]
  }
 ],
 "metadata": {
  "kernelspec": {
   "display_name": "Python 3 (ipykernel)",
   "language": "python",
   "name": "python3"
  },
  "language_info": {
   "codemirror_mode": {
    "name": "ipython",
    "version": 3
   },
   "file_extension": ".py",
   "mimetype": "text/x-python",
   "name": "python",
   "nbconvert_exporter": "python",
   "pygments_lexer": "ipython3",
   "version": "3.11.4"
  }
 },
 "nbformat": 4,
 "nbformat_minor": 5
}
